{
 "cells": [
  {
   "cell_type": "code",
   "execution_count": 1,
   "metadata": {},
   "outputs": [],
   "source": [
    "import pandas as pd\n",
    "import numpy as np"
   ]
  },
  {
   "cell_type": "code",
   "execution_count": 47,
   "metadata": {},
   "outputs": [],
   "source": [
    "data_magazines = pd.read_csv(r'place_zone_coordinates.csv')\n",
    "data_users = pd.read_csv(r'user_coordinates.csv')"
   ]
  },
  {
   "cell_type": "code",
   "execution_count": 72,
   "metadata": {},
   "outputs": [
    {
     "data": {
      "text/html": [
       "<div>\n",
       "<style scoped>\n",
       "    .dataframe tbody tr th:only-of-type {\n",
       "        vertical-align: middle;\n",
       "    }\n",
       "\n",
       "    .dataframe tbody tr th {\n",
       "        vertical-align: top;\n",
       "    }\n",
       "\n",
       "    .dataframe thead th {\n",
       "        text-align: right;\n",
       "    }\n",
       "</style>\n",
       "<table border=\"1\" class=\"dataframe\">\n",
       "  <thead>\n",
       "    <tr style=\"text-align: right;\">\n",
       "      <th></th>\n",
       "      <th>Latitude</th>\n",
       "      <th>Longitude</th>\n",
       "      <th>Description</th>\n",
       "      <th>Caption</th>\n",
       "      <th>Placemark number</th>\n",
       "    </tr>\n",
       "  </thead>\n",
       "  <tbody>\n",
       "    <tr>\n",
       "      <th>0</th>\n",
       "      <td>55.721930</td>\n",
       "      <td>37.511864</td>\n",
       "      <td>NaN</td>\n",
       "      <td>1</td>\n",
       "      <td>NaN</td>\n",
       "    </tr>\n",
       "    <tr>\n",
       "      <th>1</th>\n",
       "      <td>55.723423</td>\n",
       "      <td>37.563255</td>\n",
       "      <td>NaN</td>\n",
       "      <td>0</td>\n",
       "      <td>NaN</td>\n",
       "    </tr>\n",
       "    <tr>\n",
       "      <th>2</th>\n",
       "      <td>55.723187</td>\n",
       "      <td>37.559859</td>\n",
       "      <td>NaN</td>\n",
       "      <td>2</td>\n",
       "      <td>NaN</td>\n",
       "    </tr>\n",
       "    <tr>\n",
       "      <th>3</th>\n",
       "      <td>55.742356</td>\n",
       "      <td>37.549844</td>\n",
       "      <td>NaN</td>\n",
       "      <td>3</td>\n",
       "      <td>NaN</td>\n",
       "    </tr>\n",
       "  </tbody>\n",
       "</table>\n",
       "</div>"
      ],
      "text/plain": [
       "    Latitude  Longitude  Description  Caption  Placemark number\n",
       "0  55.721930  37.511864          NaN        1               NaN\n",
       "1  55.723423  37.563255          NaN        0               NaN\n",
       "2  55.723187  37.559859          NaN        2               NaN\n",
       "3  55.742356  37.549844          NaN        3               NaN"
      ]
     },
     "execution_count": 72,
     "metadata": {},
     "output_type": "execute_result"
    }
   ],
   "source": [
    "data_magazines"
   ]
  },
  {
   "cell_type": "code",
   "execution_count": 74,
   "metadata": {},
   "outputs": [],
   "source": [
    "coordinate_magazines = data_magazines[['Latitude', 'Longitude']]"
   ]
  },
  {
   "cell_type": "code",
   "execution_count": 75,
   "metadata": {},
   "outputs": [
    {
     "data": {
      "text/html": [
       "<div>\n",
       "<style scoped>\n",
       "    .dataframe tbody tr th:only-of-type {\n",
       "        vertical-align: middle;\n",
       "    }\n",
       "\n",
       "    .dataframe tbody tr th {\n",
       "        vertical-align: top;\n",
       "    }\n",
       "\n",
       "    .dataframe thead th {\n",
       "        text-align: right;\n",
       "    }\n",
       "</style>\n",
       "<table border=\"1\" class=\"dataframe\">\n",
       "  <thead>\n",
       "    <tr style=\"text-align: right;\">\n",
       "      <th></th>\n",
       "      <th>Latitude</th>\n",
       "      <th>Longitude</th>\n",
       "    </tr>\n",
       "  </thead>\n",
       "  <tbody>\n",
       "    <tr>\n",
       "      <th>0</th>\n",
       "      <td>55.721930</td>\n",
       "      <td>37.511864</td>\n",
       "    </tr>\n",
       "    <tr>\n",
       "      <th>1</th>\n",
       "      <td>55.723423</td>\n",
       "      <td>37.563255</td>\n",
       "    </tr>\n",
       "    <tr>\n",
       "      <th>2</th>\n",
       "      <td>55.723187</td>\n",
       "      <td>37.559859</td>\n",
       "    </tr>\n",
       "    <tr>\n",
       "      <th>3</th>\n",
       "      <td>55.742356</td>\n",
       "      <td>37.549844</td>\n",
       "    </tr>\n",
       "  </tbody>\n",
       "</table>\n",
       "</div>"
      ],
      "text/plain": [
       "    Latitude  Longitude\n",
       "0  55.721930  37.511864\n",
       "1  55.723423  37.563255\n",
       "2  55.723187  37.559859\n",
       "3  55.742356  37.549844"
      ]
     },
     "execution_count": 75,
     "metadata": {},
     "output_type": "execute_result"
    }
   ],
   "source": [
    "coordinate_magazines"
   ]
  },
  {
   "cell_type": "code",
   "execution_count": 171,
   "metadata": {},
   "outputs": [
    {
     "name": "stderr",
     "output_type": "stream",
     "text": [
      "<ipython-input-171-41e4f44da898>:4: SettingWithCopyWarning: \n",
      "A value is trying to be set on a copy of a slice from a DataFrame.\n",
      "Try using .loc[row_indexer,col_indexer] = value instead\n",
      "\n",
      "See the caveats in the documentation: https://pandas.pydata.org/pandas-docs/stable/user_guide/indexing.html#returning-a-view-versus-a-copy\n",
      "  coordinate_magazines['Delivery radius,(km)'] = delivery_radius\n"
     ]
    },
    {
     "data": {
      "text/html": [
       "<div>\n",
       "<style scoped>\n",
       "    .dataframe tbody tr th:only-of-type {\n",
       "        vertical-align: middle;\n",
       "    }\n",
       "\n",
       "    .dataframe tbody tr th {\n",
       "        vertical-align: top;\n",
       "    }\n",
       "\n",
       "    .dataframe thead th {\n",
       "        text-align: right;\n",
       "    }\n",
       "</style>\n",
       "<table border=\"1\" class=\"dataframe\">\n",
       "  <thead>\n",
       "    <tr style=\"text-align: right;\">\n",
       "      <th></th>\n",
       "      <th>Latitude</th>\n",
       "      <th>Longitude</th>\n",
       "      <th>Delivery radius,(km)</th>\n",
       "    </tr>\n",
       "  </thead>\n",
       "  <tbody>\n",
       "    <tr>\n",
       "      <th>0</th>\n",
       "      <td>55.721930</td>\n",
       "      <td>37.511864</td>\n",
       "      <td>10.0</td>\n",
       "    </tr>\n",
       "    <tr>\n",
       "      <th>1</th>\n",
       "      <td>55.723423</td>\n",
       "      <td>37.563255</td>\n",
       "      <td>10.0</td>\n",
       "    </tr>\n",
       "    <tr>\n",
       "      <th>2</th>\n",
       "      <td>55.723187</td>\n",
       "      <td>37.559859</td>\n",
       "      <td>10.0</td>\n",
       "    </tr>\n",
       "    <tr>\n",
       "      <th>3</th>\n",
       "      <td>55.742356</td>\n",
       "      <td>37.549844</td>\n",
       "      <td>10.0</td>\n",
       "    </tr>\n",
       "  </tbody>\n",
       "</table>\n",
       "</div>"
      ],
      "text/plain": [
       "    Latitude  Longitude  Delivery radius,(km)\n",
       "0  55.721930  37.511864                  10.0\n",
       "1  55.723423  37.563255                  10.0\n",
       "2  55.723187  37.559859                  10.0\n",
       "3  55.742356  37.549844                  10.0"
      ]
     },
     "execution_count": 171,
     "metadata": {},
     "output_type": "execute_result"
    }
   ],
   "source": [
    "#define radius of delivery area\n",
    "radius = 10 # 1 km\n",
    "delivery_radius = np.ones(coordinate_magazines.shape[0])*radius\n",
    "coordinate_magazines['Delivery radius,(km)'] = delivery_radius\n",
    "coordinate_magazines"
   ]
  },
  {
   "cell_type": "code",
   "execution_count": 5,
   "metadata": {},
   "outputs": [
    {
     "data": {
      "text/html": [
       "<div>\n",
       "<style scoped>\n",
       "    .dataframe tbody tr th:only-of-type {\n",
       "        vertical-align: middle;\n",
       "    }\n",
       "\n",
       "    .dataframe tbody tr th {\n",
       "        vertical-align: top;\n",
       "    }\n",
       "\n",
       "    .dataframe thead th {\n",
       "        text-align: right;\n",
       "    }\n",
       "</style>\n",
       "<table border=\"1\" class=\"dataframe\">\n",
       "  <thead>\n",
       "    <tr style=\"text-align: right;\">\n",
       "      <th></th>\n",
       "      <th>Latitude</th>\n",
       "      <th>Longitude</th>\n",
       "      <th>Description</th>\n",
       "      <th>Caption</th>\n",
       "      <th>Placemark number</th>\n",
       "    </tr>\n",
       "  </thead>\n",
       "  <tbody>\n",
       "    <tr>\n",
       "      <th>0</th>\n",
       "      <td>55.722306</td>\n",
       "      <td>37.565937</td>\n",
       "      <td>NaN</td>\n",
       "      <td>0</td>\n",
       "      <td>NaN</td>\n",
       "    </tr>\n",
       "    <tr>\n",
       "      <th>1</th>\n",
       "      <td>55.729305</td>\n",
       "      <td>37.560358</td>\n",
       "      <td>NaN</td>\n",
       "      <td>1</td>\n",
       "      <td>NaN</td>\n",
       "    </tr>\n",
       "    <tr>\n",
       "      <th>2</th>\n",
       "      <td>55.719447</td>\n",
       "      <td>37.555766</td>\n",
       "      <td>NaN</td>\n",
       "      <td>2</td>\n",
       "      <td>NaN</td>\n",
       "    </tr>\n",
       "    <tr>\n",
       "      <th>3</th>\n",
       "      <td>55.726350</td>\n",
       "      <td>37.529845</td>\n",
       "      <td>NaN</td>\n",
       "      <td>3</td>\n",
       "      <td>NaN</td>\n",
       "    </tr>\n",
       "    <tr>\n",
       "      <th>4</th>\n",
       "      <td>55.728385</td>\n",
       "      <td>37.522850</td>\n",
       "      <td>NaN</td>\n",
       "      <td>4</td>\n",
       "      <td>NaN</td>\n",
       "    </tr>\n",
       "    <tr>\n",
       "      <th>5</th>\n",
       "      <td>55.722427</td>\n",
       "      <td>37.522872</td>\n",
       "      <td>NaN</td>\n",
       "      <td>5</td>\n",
       "      <td>NaN</td>\n",
       "    </tr>\n",
       "    <tr>\n",
       "      <th>6</th>\n",
       "      <td>55.639428</td>\n",
       "      <td>37.357776</td>\n",
       "      <td>NaN</td>\n",
       "      <td>6</td>\n",
       "      <td>NaN</td>\n",
       "    </tr>\n",
       "    <tr>\n",
       "      <th>7</th>\n",
       "      <td>55.658090</td>\n",
       "      <td>37.731183</td>\n",
       "      <td>NaN</td>\n",
       "      <td>7</td>\n",
       "      <td>NaN</td>\n",
       "    </tr>\n",
       "    <tr>\n",
       "      <th>8</th>\n",
       "      <td>55.770599</td>\n",
       "      <td>37.664364</td>\n",
       "      <td>NaN</td>\n",
       "      <td>8</td>\n",
       "      <td>NaN</td>\n",
       "    </tr>\n",
       "  </tbody>\n",
       "</table>\n",
       "</div>"
      ],
      "text/plain": [
       "    Latitude  Longitude  Description  Caption  Placemark number\n",
       "0  55.722306  37.565937          NaN        0               NaN\n",
       "1  55.729305  37.560358          NaN        1               NaN\n",
       "2  55.719447  37.555766          NaN        2               NaN\n",
       "3  55.726350  37.529845          NaN        3               NaN\n",
       "4  55.728385  37.522850          NaN        4               NaN\n",
       "5  55.722427  37.522872          NaN        5               NaN\n",
       "6  55.639428  37.357776          NaN        6               NaN\n",
       "7  55.658090  37.731183          NaN        7               NaN\n",
       "8  55.770599  37.664364          NaN        8               NaN"
      ]
     },
     "execution_count": 5,
     "metadata": {},
     "output_type": "execute_result"
    }
   ],
   "source": [
    "data_users"
   ]
  },
  {
   "cell_type": "code",
   "execution_count": 11,
   "metadata": {},
   "outputs": [],
   "source": [
    "coordinate_users = data_users[['Latitude', 'Longitude']]"
   ]
  },
  {
   "cell_type": "code",
   "execution_count": 31,
   "metadata": {},
   "outputs": [
    {
     "data": {
      "text/html": [
       "<div>\n",
       "<style scoped>\n",
       "    .dataframe tbody tr th:only-of-type {\n",
       "        vertical-align: middle;\n",
       "    }\n",
       "\n",
       "    .dataframe tbody tr th {\n",
       "        vertical-align: top;\n",
       "    }\n",
       "\n",
       "    .dataframe thead th {\n",
       "        text-align: right;\n",
       "    }\n",
       "</style>\n",
       "<table border=\"1\" class=\"dataframe\">\n",
       "  <thead>\n",
       "    <tr style=\"text-align: right;\">\n",
       "      <th></th>\n",
       "      <th>Latitude</th>\n",
       "      <th>Longitude</th>\n",
       "    </tr>\n",
       "  </thead>\n",
       "  <tbody>\n",
       "    <tr>\n",
       "      <th>0</th>\n",
       "      <td>55.722306</td>\n",
       "      <td>37.565937</td>\n",
       "    </tr>\n",
       "    <tr>\n",
       "      <th>1</th>\n",
       "      <td>55.729305</td>\n",
       "      <td>37.560358</td>\n",
       "    </tr>\n",
       "    <tr>\n",
       "      <th>2</th>\n",
       "      <td>55.719447</td>\n",
       "      <td>37.555766</td>\n",
       "    </tr>\n",
       "    <tr>\n",
       "      <th>3</th>\n",
       "      <td>55.726350</td>\n",
       "      <td>37.529845</td>\n",
       "    </tr>\n",
       "    <tr>\n",
       "      <th>4</th>\n",
       "      <td>55.728385</td>\n",
       "      <td>37.522850</td>\n",
       "    </tr>\n",
       "    <tr>\n",
       "      <th>5</th>\n",
       "      <td>55.722427</td>\n",
       "      <td>37.522872</td>\n",
       "    </tr>\n",
       "    <tr>\n",
       "      <th>6</th>\n",
       "      <td>55.639428</td>\n",
       "      <td>37.357776</td>\n",
       "    </tr>\n",
       "    <tr>\n",
       "      <th>7</th>\n",
       "      <td>55.658090</td>\n",
       "      <td>37.731183</td>\n",
       "    </tr>\n",
       "    <tr>\n",
       "      <th>8</th>\n",
       "      <td>55.770599</td>\n",
       "      <td>37.664364</td>\n",
       "    </tr>\n",
       "  </tbody>\n",
       "</table>\n",
       "</div>"
      ],
      "text/plain": [
       "    Latitude  Longitude\n",
       "0  55.722306  37.565937\n",
       "1  55.729305  37.560358\n",
       "2  55.719447  37.555766\n",
       "3  55.726350  37.529845\n",
       "4  55.728385  37.522850\n",
       "5  55.722427  37.522872\n",
       "6  55.639428  37.357776\n",
       "7  55.658090  37.731183\n",
       "8  55.770599  37.664364"
      ]
     },
     "execution_count": 31,
     "metadata": {},
     "output_type": "execute_result"
    }
   ],
   "source": [
    "coordinate_users"
   ]
  },
  {
   "cell_type": "code",
   "execution_count": 70,
   "metadata": {},
   "outputs": [
    {
     "name": "stdout",
     "output_type": "stream",
     "text": [
      "634.5689802775989\n"
     ]
    }
   ],
   "source": [
    "def calculate_distance(lat1, lon1, lat2, lon2, R = 6371):\n",
    "    lat_1, lon_1, lat_2, lon_2 = np.radians([lat1, lon1, lat2, lon2])\n",
    "    A = np.power(np.sin((lat_2-lat_1)/2),2)+np.cos(lat_2)*np.cos(lat_1)*np.power(np.sin((lon_2-lon_1)/2),2)\n",
    "    return 2*R*np.arcsin(np.sqrt(A))\n",
    "\n",
    "print(calculate_distance(55.7539, 37.6208, 59.9398, 30.3146))"
   ]
  },
  {
   "cell_type": "code",
   "execution_count": 89,
   "metadata": {},
   "outputs": [],
   "source": [
    "users = coordinate_users.values\n",
    "users_num = np.arange(users.shape[0]).reshape(-1,1)\n",
    "users = np.concatenate((users, users_num), axis=1)"
   ]
  },
  {
   "cell_type": "code",
   "execution_count": 172,
   "metadata": {},
   "outputs": [
    {
     "data": {
      "text/plain": [
       "array([[55.72193019, 37.5118639 , 10.        ,  0.        ],\n",
       "       [55.72342284, 37.56325502, 10.        ,  1.        ],\n",
       "       [55.72318668, 37.55985935, 10.        ,  2.        ],\n",
       "       [55.74235609, 37.54984398, 10.        ,  3.        ]])"
      ]
     },
     "execution_count": 172,
     "metadata": {},
     "output_type": "execute_result"
    }
   ],
   "source": [
    "magazines = coordinate_magazines.values\n",
    "magazines_num = np.arange(magazines.shape[0]).reshape(-1,1)\n",
    "magazines = np.concatenate((magazines, magazines_num), axis=1)\n",
    "magazines"
   ]
  },
  {
   "cell_type": "code",
   "execution_count": 173,
   "metadata": {},
   "outputs": [],
   "source": [
    "available_places = {}\n",
    "\n",
    "for user_lat, user_lon, user in users:\n",
    "    available_places[user] = []\n",
    "    distances = np.zeros(magazines.shape[0])\n",
    "    for mag_lat, mag_lon, r, mag in magazines:\n",
    "        distances[int(mag)] = calculate_distance(user_lat, user_lon, mag_lat, mag_lon)\n",
    "        if distances[int(mag)] < r:\n",
    "            available_places[user].append(int(mag))\n",
    "    if available_places[user] == []:\n",
    "        available_places[user] = np.argsort(distances)[0:1]"
   ]
  },
  {
   "cell_type": "code",
   "execution_count": 174,
   "metadata": {},
   "outputs": [
    {
     "name": "stdout",
     "output_type": "stream",
     "text": [
      "для 0.0 человека доступно [0, 1, 2, 3] магазины\n",
      "для 1.0 человека доступно [0, 1, 2, 3] магазины\n",
      "для 2.0 человека доступно [0, 1, 2, 3] магазины\n",
      "для 3.0 человека доступно [0, 1, 2, 3] магазины\n",
      "для 4.0 человека доступно [0, 1, 2, 3] магазины\n",
      "для 5.0 человека доступно [0, 1, 2, 3] магазины\n",
      "для 6.0 человека доступно [0] магазины\n",
      "для 7.0 человека доступно [1] магазины\n",
      "для 8.0 человека доступно [1, 2, 3] магазины\n"
     ]
    }
   ],
   "source": [
    "for u in available_places.keys():\n",
    "    print(f'для {u} человека доступно {available_places[u]} магазины')"
   ]
  },
  {
   "cell_type": "code",
   "execution_count": 175,
   "metadata": {},
   "outputs": [],
   "source": [
    "def save_csv(filename):\n",
    "    with open(filename, 'w') as file:\n",
    "        file.write(\"user_id, num_of_available_places, magazines_id\\n\")\n",
    "        for user in available_places.keys():\n",
    "            file.write(f\"{user}, {len(available_places[user])}, {available_places[user]}\\n\")"
   ]
  },
  {
   "cell_type": "code",
   "execution_count": 176,
   "metadata": {},
   "outputs": [],
   "source": [
    "save_csv(\"available.csv\")"
   ]
  },
  {
   "cell_type": "code",
   "execution_count": null,
   "metadata": {},
   "outputs": [],
   "source": []
  }
 ],
 "metadata": {
  "kernelspec": {
   "display_name": "Python 3",
   "language": "python",
   "name": "python3"
  },
  "language_info": {
   "codemirror_mode": {
    "name": "ipython",
    "version": 3
   },
   "file_extension": ".py",
   "mimetype": "text/x-python",
   "name": "python",
   "nbconvert_exporter": "python",
   "pygments_lexer": "ipython3",
   "version": "3.8.5"
  }
 },
 "nbformat": 4,
 "nbformat_minor": 4
}
